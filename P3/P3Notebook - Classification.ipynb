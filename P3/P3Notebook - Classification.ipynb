{
 "cells": [
  {
   "cell_type": "markdown",
   "id": "6a7cdc44",
   "metadata": {},
   "source": [
    "# Código de la P3: Clasificación\n",
    "## Ignacio Garach Vélez "
   ]
  },
  {
   "cell_type": "markdown",
   "id": "68b5864e",
   "metadata": {},
   "source": [
    "En primer lugar cargaremos los datos desde fichero:"
   ]
  },
  {
   "cell_type": "code",
   "execution_count": 1,
   "id": "08a600e6",
   "metadata": {},
   "outputs": [],
   "source": [
    "import pandas as pd\n",
    "import numpy as np\n",
    "import matplotlib.pyplot as plt\n",
    "import seaborn as sns\n",
    "from sklearn.preprocessing import FunctionTransformer\n",
    "from sklearn.preprocessing import StandardScaler\n",
    "from sklearn.ensemble import IsolationForest\n",
    "from sklearn.model_selection import train_test_split\n",
    "from sklearn.linear_model import SGDClassifier\n",
    "from sklearn.linear_model import Perceptron\n",
    "from sklearn.linear_model import LogisticRegression\n",
    "from sklearn.linear_model import RidgeClassifier\n",
    "from sklearn.model_selection import GridSearchCV\n",
    "from sklearn.feature_selection import VarianceThreshold\n",
    "from sklearn.decomposition import PCA\n",
    "from sklearn.feature_selection import RFE\n",
    "from sklearn.metrics import confusion_matrix\n",
    "from sklearn.metrics import PrecisionRecallDisplay\n",
    "from sklearn.dummy import DummyClassifier\n",
    "from sklearn.model_selection import ShuffleSplit\n",
    "from sklearn.model_selection import learning_curve\n",
    "from sklearn.preprocessing import PolynomialFeatures\n",
    "from sklearn.metrics import f1_score\n",
    "\n",
    "plt.rcParams[\"figure.figsize\"] = (7, 5)"
   ]
  },
  {
   "cell_type": "markdown",
   "id": "3a3d9560",
   "metadata": {},
   "source": [
    "Cargamos los datos:"
   ]
  },
  {
   "cell_type": "code",
   "execution_count": 2,
   "id": "7ae5a81b",
   "metadata": {
    "scrolled": true
   },
   "outputs": [
    {
     "data": {
      "text/html": [
       "<div>\n",
       "<style scoped>\n",
       "    .dataframe tbody tr th:only-of-type {\n",
       "        vertical-align: middle;\n",
       "    }\n",
       "\n",
       "    .dataframe tbody tr th {\n",
       "        vertical-align: top;\n",
       "    }\n",
       "\n",
       "    .dataframe thead th {\n",
       "        text-align: right;\n",
       "    }\n",
       "</style>\n",
       "<table border=\"1\" class=\"dataframe\">\n",
       "  <thead>\n",
       "    <tr style=\"text-align: right;\">\n",
       "      <th></th>\n",
       "      <th>age</th>\n",
       "      <th>job</th>\n",
       "      <th>marital</th>\n",
       "      <th>education</th>\n",
       "      <th>default</th>\n",
       "      <th>balance</th>\n",
       "      <th>housing</th>\n",
       "      <th>loan</th>\n",
       "      <th>contact</th>\n",
       "      <th>day</th>\n",
       "      <th>month</th>\n",
       "      <th>duration</th>\n",
       "      <th>campaign</th>\n",
       "      <th>pdays</th>\n",
       "      <th>previous</th>\n",
       "      <th>poutcome</th>\n",
       "      <th>y</th>\n",
       "    </tr>\n",
       "  </thead>\n",
       "  <tbody>\n",
       "    <tr>\n",
       "      <th>0</th>\n",
       "      <td>58</td>\n",
       "      <td>management</td>\n",
       "      <td>married</td>\n",
       "      <td>tertiary</td>\n",
       "      <td>no</td>\n",
       "      <td>2143</td>\n",
       "      <td>yes</td>\n",
       "      <td>no</td>\n",
       "      <td>unknown</td>\n",
       "      <td>5</td>\n",
       "      <td>may</td>\n",
       "      <td>261</td>\n",
       "      <td>1</td>\n",
       "      <td>-1</td>\n",
       "      <td>0</td>\n",
       "      <td>unknown</td>\n",
       "      <td>no</td>\n",
       "    </tr>\n",
       "    <tr>\n",
       "      <th>1</th>\n",
       "      <td>44</td>\n",
       "      <td>technician</td>\n",
       "      <td>single</td>\n",
       "      <td>secondary</td>\n",
       "      <td>no</td>\n",
       "      <td>29</td>\n",
       "      <td>yes</td>\n",
       "      <td>no</td>\n",
       "      <td>unknown</td>\n",
       "      <td>5</td>\n",
       "      <td>may</td>\n",
       "      <td>151</td>\n",
       "      <td>1</td>\n",
       "      <td>-1</td>\n",
       "      <td>0</td>\n",
       "      <td>unknown</td>\n",
       "      <td>no</td>\n",
       "    </tr>\n",
       "    <tr>\n",
       "      <th>2</th>\n",
       "      <td>33</td>\n",
       "      <td>entrepreneur</td>\n",
       "      <td>married</td>\n",
       "      <td>secondary</td>\n",
       "      <td>no</td>\n",
       "      <td>2</td>\n",
       "      <td>yes</td>\n",
       "      <td>yes</td>\n",
       "      <td>unknown</td>\n",
       "      <td>5</td>\n",
       "      <td>may</td>\n",
       "      <td>76</td>\n",
       "      <td>1</td>\n",
       "      <td>-1</td>\n",
       "      <td>0</td>\n",
       "      <td>unknown</td>\n",
       "      <td>no</td>\n",
       "    </tr>\n",
       "    <tr>\n",
       "      <th>3</th>\n",
       "      <td>47</td>\n",
       "      <td>blue-collar</td>\n",
       "      <td>married</td>\n",
       "      <td>unknown</td>\n",
       "      <td>no</td>\n",
       "      <td>1506</td>\n",
       "      <td>yes</td>\n",
       "      <td>no</td>\n",
       "      <td>unknown</td>\n",
       "      <td>5</td>\n",
       "      <td>may</td>\n",
       "      <td>92</td>\n",
       "      <td>1</td>\n",
       "      <td>-1</td>\n",
       "      <td>0</td>\n",
       "      <td>unknown</td>\n",
       "      <td>no</td>\n",
       "    </tr>\n",
       "    <tr>\n",
       "      <th>4</th>\n",
       "      <td>33</td>\n",
       "      <td>unknown</td>\n",
       "      <td>single</td>\n",
       "      <td>unknown</td>\n",
       "      <td>no</td>\n",
       "      <td>1</td>\n",
       "      <td>no</td>\n",
       "      <td>no</td>\n",
       "      <td>unknown</td>\n",
       "      <td>5</td>\n",
       "      <td>may</td>\n",
       "      <td>198</td>\n",
       "      <td>1</td>\n",
       "      <td>-1</td>\n",
       "      <td>0</td>\n",
       "      <td>unknown</td>\n",
       "      <td>no</td>\n",
       "    </tr>\n",
       "    <tr>\n",
       "      <th>...</th>\n",
       "      <td>...</td>\n",
       "      <td>...</td>\n",
       "      <td>...</td>\n",
       "      <td>...</td>\n",
       "      <td>...</td>\n",
       "      <td>...</td>\n",
       "      <td>...</td>\n",
       "      <td>...</td>\n",
       "      <td>...</td>\n",
       "      <td>...</td>\n",
       "      <td>...</td>\n",
       "      <td>...</td>\n",
       "      <td>...</td>\n",
       "      <td>...</td>\n",
       "      <td>...</td>\n",
       "      <td>...</td>\n",
       "      <td>...</td>\n",
       "    </tr>\n",
       "    <tr>\n",
       "      <th>45206</th>\n",
       "      <td>51</td>\n",
       "      <td>technician</td>\n",
       "      <td>married</td>\n",
       "      <td>tertiary</td>\n",
       "      <td>no</td>\n",
       "      <td>825</td>\n",
       "      <td>no</td>\n",
       "      <td>no</td>\n",
       "      <td>cellular</td>\n",
       "      <td>17</td>\n",
       "      <td>nov</td>\n",
       "      <td>977</td>\n",
       "      <td>3</td>\n",
       "      <td>-1</td>\n",
       "      <td>0</td>\n",
       "      <td>unknown</td>\n",
       "      <td>yes</td>\n",
       "    </tr>\n",
       "    <tr>\n",
       "      <th>45207</th>\n",
       "      <td>71</td>\n",
       "      <td>retired</td>\n",
       "      <td>divorced</td>\n",
       "      <td>primary</td>\n",
       "      <td>no</td>\n",
       "      <td>1729</td>\n",
       "      <td>no</td>\n",
       "      <td>no</td>\n",
       "      <td>cellular</td>\n",
       "      <td>17</td>\n",
       "      <td>nov</td>\n",
       "      <td>456</td>\n",
       "      <td>2</td>\n",
       "      <td>-1</td>\n",
       "      <td>0</td>\n",
       "      <td>unknown</td>\n",
       "      <td>yes</td>\n",
       "    </tr>\n",
       "    <tr>\n",
       "      <th>45208</th>\n",
       "      <td>72</td>\n",
       "      <td>retired</td>\n",
       "      <td>married</td>\n",
       "      <td>secondary</td>\n",
       "      <td>no</td>\n",
       "      <td>5715</td>\n",
       "      <td>no</td>\n",
       "      <td>no</td>\n",
       "      <td>cellular</td>\n",
       "      <td>17</td>\n",
       "      <td>nov</td>\n",
       "      <td>1127</td>\n",
       "      <td>5</td>\n",
       "      <td>184</td>\n",
       "      <td>3</td>\n",
       "      <td>success</td>\n",
       "      <td>yes</td>\n",
       "    </tr>\n",
       "    <tr>\n",
       "      <th>45209</th>\n",
       "      <td>57</td>\n",
       "      <td>blue-collar</td>\n",
       "      <td>married</td>\n",
       "      <td>secondary</td>\n",
       "      <td>no</td>\n",
       "      <td>668</td>\n",
       "      <td>no</td>\n",
       "      <td>no</td>\n",
       "      <td>telephone</td>\n",
       "      <td>17</td>\n",
       "      <td>nov</td>\n",
       "      <td>508</td>\n",
       "      <td>4</td>\n",
       "      <td>-1</td>\n",
       "      <td>0</td>\n",
       "      <td>unknown</td>\n",
       "      <td>no</td>\n",
       "    </tr>\n",
       "    <tr>\n",
       "      <th>45210</th>\n",
       "      <td>37</td>\n",
       "      <td>entrepreneur</td>\n",
       "      <td>married</td>\n",
       "      <td>secondary</td>\n",
       "      <td>no</td>\n",
       "      <td>2971</td>\n",
       "      <td>no</td>\n",
       "      <td>no</td>\n",
       "      <td>cellular</td>\n",
       "      <td>17</td>\n",
       "      <td>nov</td>\n",
       "      <td>361</td>\n",
       "      <td>2</td>\n",
       "      <td>188</td>\n",
       "      <td>11</td>\n",
       "      <td>other</td>\n",
       "      <td>no</td>\n",
       "    </tr>\n",
       "  </tbody>\n",
       "</table>\n",
       "<p>45211 rows × 17 columns</p>\n",
       "</div>"
      ],
      "text/plain": [
       "       age           job   marital  education default  balance housing loan  \\\n",
       "0       58    management   married   tertiary      no     2143     yes   no   \n",
       "1       44    technician    single  secondary      no       29     yes   no   \n",
       "2       33  entrepreneur   married  secondary      no        2     yes  yes   \n",
       "3       47   blue-collar   married    unknown      no     1506     yes   no   \n",
       "4       33       unknown    single    unknown      no        1      no   no   \n",
       "...    ...           ...       ...        ...     ...      ...     ...  ...   \n",
       "45206   51    technician   married   tertiary      no      825      no   no   \n",
       "45207   71       retired  divorced    primary      no     1729      no   no   \n",
       "45208   72       retired   married  secondary      no     5715      no   no   \n",
       "45209   57   blue-collar   married  secondary      no      668      no   no   \n",
       "45210   37  entrepreneur   married  secondary      no     2971      no   no   \n",
       "\n",
       "         contact  day month  duration  campaign  pdays  previous poutcome    y  \n",
       "0        unknown    5   may       261         1     -1         0  unknown   no  \n",
       "1        unknown    5   may       151         1     -1         0  unknown   no  \n",
       "2        unknown    5   may        76         1     -1         0  unknown   no  \n",
       "3        unknown    5   may        92         1     -1         0  unknown   no  \n",
       "4        unknown    5   may       198         1     -1         0  unknown   no  \n",
       "...          ...  ...   ...       ...       ...    ...       ...      ...  ...  \n",
       "45206   cellular   17   nov       977         3     -1         0  unknown  yes  \n",
       "45207   cellular   17   nov       456         2     -1         0  unknown  yes  \n",
       "45208   cellular   17   nov      1127         5    184         3  success  yes  \n",
       "45209  telephone   17   nov       508         4     -1         0  unknown   no  \n",
       "45210   cellular   17   nov       361         2    188        11    other   no  \n",
       "\n",
       "[45211 rows x 17 columns]"
      ]
     },
     "execution_count": 2,
     "metadata": {},
     "output_type": "execute_result"
    }
   ],
   "source": [
    "data = pd.read_csv('datos/clasificacion/bank-full.csv', sep = ';')\n",
    "values = data.values\n",
    "data"
   ]
  },
  {
   "cell_type": "code",
   "execution_count": 3,
   "id": "3e93e0b4",
   "metadata": {},
   "outputs": [
    {
     "data": {
      "text/plain": [
       "array([[58, 'management', 'married', ..., 0, 'unknown', 'no'],\n",
       "       [44, 'technician', 'single', ..., 0, 'unknown', 'no'],\n",
       "       [33, 'entrepreneur', 'married', ..., 0, 'unknown', 'no'],\n",
       "       ...,\n",
       "       [72, 'retired', 'married', ..., 3, 'success', 'yes'],\n",
       "       [57, 'blue-collar', 'married', ..., 0, 'unknown', 'no'],\n",
       "       [37, 'entrepreneur', 'married', ..., 11, 'other', 'no']],\n",
       "      dtype=object)"
      ]
     },
     "execution_count": 3,
     "metadata": {},
     "output_type": "execute_result"
    }
   ],
   "source": [
    "values"
   ]
  },
  {
   "cell_type": "markdown",
   "id": "b27e9620",
   "metadata": {},
   "source": [
    "Exploremos los datos:"
   ]
  },
  {
   "cell_type": "code",
   "execution_count": 4,
   "id": "0957ede2",
   "metadata": {
    "scrolled": true
   },
   "outputs": [
    {
     "name": "stdout",
     "output_type": "stream",
     "text": [
      "age          0\n",
      "job          0\n",
      "marital      0\n",
      "education    0\n",
      "default      0\n",
      "balance      0\n",
      "housing      0\n",
      "loan         0\n",
      "contact      0\n",
      "day          0\n",
      "month        0\n",
      "duration     0\n",
      "campaign     0\n",
      "pdays        0\n",
      "previous     0\n",
      "poutcome     0\n",
      "y            0\n",
      "dtype: int64\n"
     ]
    }
   ],
   "source": [
    "print(data.isnull().sum())"
   ]
  },
  {
   "cell_type": "markdown",
   "id": "ecef91f1",
   "metadata": {},
   "source": [
    "Consultamos las variables categóricas y se observa variabilidad y pese a los desconocidos han de tenerse en cuenta, optaremos por realizarles OneHot Encoding, en la memoria ampliaré los motivos:"
   ]
  },
  {
   "cell_type": "code",
   "execution_count": 5,
   "id": "65795387",
   "metadata": {
    "scrolled": true
   },
   "outputs": [
    {
     "data": {
      "text/plain": [
       "blue-collar      9732\n",
       "management       9458\n",
       "technician       7597\n",
       "admin.           5171\n",
       "services         4154\n",
       "retired          2264\n",
       "self-employed    1579\n",
       "entrepreneur     1487\n",
       "unemployed       1303\n",
       "housemaid        1240\n",
       "student           938\n",
       "unknown           288\n",
       "Name: job, dtype: int64"
      ]
     },
     "execution_count": 5,
     "metadata": {},
     "output_type": "execute_result"
    }
   ],
   "source": [
    "data.job.value_counts()"
   ]
  },
  {
   "cell_type": "code",
   "execution_count": 6,
   "id": "8475e67e",
   "metadata": {},
   "outputs": [
    {
     "data": {
      "text/plain": [
       "married     27214\n",
       "single      12790\n",
       "divorced     5207\n",
       "Name: marital, dtype: int64"
      ]
     },
     "execution_count": 6,
     "metadata": {},
     "output_type": "execute_result"
    }
   ],
   "source": [
    "data.marital.value_counts()"
   ]
  },
  {
   "cell_type": "code",
   "execution_count": 7,
   "id": "4474e87b",
   "metadata": {
    "scrolled": true
   },
   "outputs": [
    {
     "data": {
      "text/plain": [
       "secondary    23202\n",
       "tertiary     13301\n",
       "primary       6851\n",
       "unknown       1857\n",
       "Name: education, dtype: int64"
      ]
     },
     "execution_count": 7,
     "metadata": {},
     "output_type": "execute_result"
    }
   ],
   "source": [
    "data.education.value_counts()"
   ]
  },
  {
   "cell_type": "code",
   "execution_count": 8,
   "id": "d93532c1",
   "metadata": {},
   "outputs": [
    {
     "data": {
      "text/plain": [
       "cellular     29285\n",
       "unknown      13020\n",
       "telephone     2906\n",
       "Name: contact, dtype: int64"
      ]
     },
     "execution_count": 8,
     "metadata": {},
     "output_type": "execute_result"
    }
   ],
   "source": [
    "data.contact.value_counts()"
   ]
  },
  {
   "cell_type": "code",
   "execution_count": 9,
   "id": "0bfd7933",
   "metadata": {
    "scrolled": true
   },
   "outputs": [
    {
     "data": {
      "text/plain": [
       "unknown    36959\n",
       "failure     4901\n",
       "other       1840\n",
       "success     1511\n",
       "Name: poutcome, dtype: int64"
      ]
     },
     "execution_count": 9,
     "metadata": {},
     "output_type": "execute_result"
    }
   ],
   "source": [
    "data.poutcome.value_counts()"
   ]
  },
  {
   "cell_type": "markdown",
   "id": "1fe664cd",
   "metadata": {},
   "source": [
    "Las clases no estan balanceadas, esto es necesario tenerlo en cuenta:"
   ]
  },
  {
   "cell_type": "code",
   "execution_count": 10,
   "id": "f7a144b6",
   "metadata": {
    "scrolled": true
   },
   "outputs": [
    {
     "data": {
      "text/plain": [
       "no     39922\n",
       "yes     5289\n",
       "Name: y, dtype: int64"
      ]
     },
     "execution_count": 10,
     "metadata": {},
     "output_type": "execute_result"
    }
   ],
   "source": [
    "data.y.value_counts()"
   ]
  },
  {
   "cell_type": "markdown",
   "id": "8c27fb44",
   "metadata": {},
   "source": [
    "Mapeamos las variables binarias a $\\{0, 1\\}$"
   ]
  },
  {
   "cell_type": "code",
   "execution_count": 11,
   "id": "80b6121b",
   "metadata": {},
   "outputs": [],
   "source": [
    "binaries = ['default', 'housing', 'loan', 'y']\n",
    "for b in binaries:\n",
    "    data[b] = data[b].map({'yes':1 ,'no':0}) "
   ]
  },
  {
   "cell_type": "markdown",
   "id": "60ae70c2",
   "metadata": {},
   "source": [
    "Definimos esta función para generar las columnas que producen el OneHotEncoding y eliminamos las anteriores:"
   ]
  },
  {
   "cell_type": "code",
   "execution_count": 12,
   "id": "6497cbc4",
   "metadata": {},
   "outputs": [],
   "source": [
    "def onehotencode(data, feature):\n",
    "    dummies = pd.get_dummies(data[[feature]])\n",
    "    res = pd.concat([data, dummies], axis=1)\n",
    "    res = res.drop([feature], axis=1)\n",
    "    return(res) "
   ]
  },
  {
   "cell_type": "code",
   "execution_count": 13,
   "id": "13c62e25",
   "metadata": {},
   "outputs": [],
   "source": [
    "categorical = ['job', 'marital', 'education', 'contact', 'poutcome']\n",
    "for c in categorical:\n",
    "    data = onehotencode(data, c)"
   ]
  },
  {
   "cell_type": "markdown",
   "id": "48cfae5f",
   "metadata": {},
   "source": [
    "Ahora debemos lidiar con los datos temporales, para que se entiendan de forma cíclica le aplicaremos transformaciones seno y coseno, se amplia en la memoria:"
   ]
  },
  {
   "cell_type": "code",
   "execution_count": 14,
   "id": "9a31131a",
   "metadata": {},
   "outputs": [],
   "source": [
    "months = {'jan':1, 'feb':2, 'mar':3, 'apr':4, 'may' : 5, 'jun':6, 'jul' : 7, 'aug' : 8, 'sep':9, 'oct':10, 'nov':11, 'dec':12}\n",
    "data.month = data.month.map(months)"
   ]
  },
  {
   "cell_type": "markdown",
   "id": "517bb4d9",
   "metadata": {},
   "source": [
    "Para ello usaremos estas funciones tomadas de la documentación oficial de scikitlearn:"
   ]
  },
  {
   "cell_type": "code",
   "execution_count": 15,
   "id": "6e5570dc",
   "metadata": {},
   "outputs": [],
   "source": [
    "def sin_transformer(period):\n",
    "    return FunctionTransformer(lambda x: np.sin(x / period * 2 * np.pi))\n",
    "\n",
    "def cos_transformer(period):\n",
    "    return FunctionTransformer(lambda x: np.cos(x / period * 2 * np.pi))"
   ]
  },
  {
   "cell_type": "code",
   "execution_count": 16,
   "id": "a591a721",
   "metadata": {},
   "outputs": [],
   "source": [
    "data[\"day_sin\"] = sin_transformer(31).fit_transform(data)[\"day\"]\n",
    "data[\"day_cos\"] = cos_transformer(31).fit_transform(data)[\"day\"]\n",
    "data[\"month_sin\"] = sin_transformer(12).fit_transform(data)[\"month\"]\n",
    "data[\"month_cos\"] = cos_transformer(12).fit_transform(data)[\"month\"]\n",
    "data = data.drop([\"day\"], axis=1)\n",
    "data = data.drop([\"month\"], axis=1)"
   ]
  },
  {
   "cell_type": "code",
   "execution_count": 17,
   "id": "3a2e8a84",
   "metadata": {
    "scrolled": true
   },
   "outputs": [
    {
     "data": {
      "text/plain": [
       "array([0, 0, 0, ..., 1, 0, 0], dtype=int64)"
      ]
     },
     "execution_count": 17,
     "metadata": {},
     "output_type": "execute_result"
    }
   ],
   "source": [
    "target = np.array(data.loc[: , 'y'])\n",
    "data = data.drop([\"y\"], axis=1)\n",
    "target"
   ]
  },
  {
   "cell_type": "code",
   "execution_count": 18,
   "id": "105f11dc",
   "metadata": {
    "scrolled": true
   },
   "outputs": [],
   "source": [
    "x = data.to_numpy()"
   ]
  },
  {
   "cell_type": "markdown",
   "id": "3e8e29d9",
   "metadata": {},
   "source": [
    "Vamos a separar los datos para llevar a cabo una observación más profunda sin caer en el data snooping/leakage:"
   ]
  },
  {
   "cell_type": "code",
   "execution_count": 19,
   "id": "e9efb56b",
   "metadata": {},
   "outputs": [],
   "source": [
    "x_train, x_test, y_train, y_test = train_test_split(\n",
    "    x, target,\n",
    "    test_size= 0.2,\n",
    "    shuffle = True, stratify = target,\n",
    "    random_state=1)"
   ]
  },
  {
   "cell_type": "code",
   "execution_count": 20,
   "id": "39a63c61",
   "metadata": {},
   "outputs": [
    {
     "data": {
      "image/png": "[encoded data removed]",
      "text/plain": [
       "<Figure size 504x360 with 2 Axes>"
      ]
     },
     "metadata": {
      "needs_background": "light"
     },
     "output_type": "display_data"
    }
   ],
   "source": [
    "pca = PCA(2)  # project from 64 to 2 dimensions\n",
    "pc = pca.fit_transform(x_train)\n",
    "plt.scatter(pc[:, 0], pc[:, 1],\n",
    "            c=y_train, edgecolor='none', alpha=0.5)\n",
    "plt.xlabel('component 1')\n",
    "plt.ylabel('component 2')\n",
    "plt.colorbar();"
   ]
  },
  {
   "cell_type": "markdown",
   "id": "e815123a",
   "metadata": {},
   "source": [
    "Llevaremos a cabo ahora un análisis de outliers mediante la técnica de IsolationForest, más info en memoria:"
   ]
  },
  {
   "cell_type": "code",
   "execution_count": 21,
   "id": "ca12ba3d",
   "metadata": {
    "scrolled": true
   },
   "outputs": [
    {
     "data": {
      "text/plain": [
       "34359"
      ]
     },
     "execution_count": 21,
     "metadata": {},
     "output_type": "execute_result"
    }
   ],
   "source": [
    "out = IsolationForest(n_estimators = 200, contamination=0.05, random_state=1)\n",
    "out.fit(x_train)\n",
    "liers = out.predict(x_train)\n",
    "(liers==1).sum()"
   ]
  },
  {
   "cell_type": "code",
   "execution_count": 22,
   "id": "48ca1fbc",
   "metadata": {},
   "outputs": [],
   "source": [
    "index=[]\n",
    "for i in range(len(liers)):\n",
    "    if liers[i]==-1:\n",
    "        index.append(i)\n",
    "x_train = np.delete(x_train, index, axis=0)\n",
    "y_train = np.delete(y_train, index, axis=0)"
   ]
  },
  {
   "cell_type": "code",
   "execution_count": 23,
   "id": "735bbea0",
   "metadata": {},
   "outputs": [
    {
     "data": {
      "text/plain": [
       "(34359, 34359)"
      ]
     },
     "execution_count": 23,
     "metadata": {},
     "output_type": "execute_result"
    }
   ],
   "source": [
    "len(x_train), len(y_train)"
   ]
  },
  {
   "cell_type": "code",
   "execution_count": 24,
   "id": "b49b66d6",
   "metadata": {},
   "outputs": [
    {
     "data": {
      "text/plain": [
       "array([False, False, False, ..., False, False, False])"
      ]
     },
     "execution_count": 24,
     "metadata": {},
     "output_type": "execute_result"
    }
   ],
   "source": [
    "(liers == -1)"
   ]
  },
  {
   "cell_type": "code",
   "execution_count": 25,
   "id": "fa1a96d4",
   "metadata": {},
   "outputs": [
    {
     "data": {
      "text/plain": [
       "array([[ 5.80000000e+01,  0.00000000e+00,  2.14300000e+03, ...,\n",
       "         5.28964010e-01,  5.00000000e-01, -8.66025404e-01],\n",
       "       [ 4.40000000e+01,  0.00000000e+00,  2.90000000e+01, ...,\n",
       "         5.28964010e-01,  5.00000000e-01, -8.66025404e-01],\n",
       "       [ 3.30000000e+01,  0.00000000e+00,  2.00000000e+00, ...,\n",
       "         5.28964010e-01,  5.00000000e-01, -8.66025404e-01],\n",
       "       ...,\n",
       "       [ 7.20000000e+01,  0.00000000e+00,  5.71500000e+03, ...,\n",
       "        -9.54139256e-01, -5.00000000e-01,  8.66025404e-01],\n",
       "       [ 5.70000000e+01,  0.00000000e+00,  6.68000000e+02, ...,\n",
       "        -9.54139256e-01, -5.00000000e-01,  8.66025404e-01],\n",
       "       [ 3.70000000e+01,  0.00000000e+00,  2.97100000e+03, ...,\n",
       "        -9.54139256e-01, -5.00000000e-01,  8.66025404e-01]])"
      ]
     },
     "execution_count": 25,
     "metadata": {},
     "output_type": "execute_result"
    }
   ],
   "source": [
    "x"
   ]
  },
  {
   "cell_type": "markdown",
   "id": "58e11de5",
   "metadata": {},
   "source": [
    "Obtenemos estadísticas de la población, a primera vista no hay variabilidades tremendamente bajas así que no eliminaremos variables:"
   ]
  },
  {
   "cell_type": "code",
   "execution_count": 26,
   "id": "c2bc81b7",
   "metadata": {},
   "outputs": [
    {
     "data": {
      "text/plain": [
       "<matplotlib.colorbar.Colorbar at 0x2113db4ff40>"
      ]
     },
     "execution_count": 26,
     "metadata": {},
     "output_type": "execute_result"
    },
    {
     "data": {
      "image/png": "[encoded data removed]",
      "text/plain": [
       "<Figure size 360x360 with 2 Axes>"
      ]
     },
     "metadata": {
      "needs_background": "light"
     },
     "output_type": "display_data"
    }
   ],
   "source": [
    "corr = np.abs(np.corrcoef(x_train, rowvar=False))\n",
    "plt.matshow(corr, cmap='viridis')\n",
    "plt.colorbar(shrink=0.8)"
   ]
  },
  {
   "cell_type": "code",
   "execution_count": 27,
   "id": "782800d1",
   "metadata": {
    "scrolled": true
   },
   "outputs": [
    {
     "name": "stdout",
     "output_type": "stream",
     "text": [
      "      count         mean          std          min         25%           50%  \\\n",
      "0   34359.0    40.751157    10.248749    18.000000   33.000000  3.900000e+01   \n",
      "1   34359.0     0.017288     0.130344     0.000000    0.000000  0.000000e+00   \n",
      "2   34359.0  1304.869554  2937.782259 -8019.000000   68.000000  4.350000e+02   \n",
      "3   34359.0     0.558893     0.496527     0.000000    0.000000  1.000000e+00   \n",
      "4   34359.0     0.156204     0.363054     0.000000    0.000000  0.000000e+00   \n",
      "5   34359.0   254.246806   249.721456     0.000000  103.000000  1.780000e+02   \n",
      "6   34359.0     2.776827     3.138593     1.000000    1.000000  2.000000e+00   \n",
      "7   34359.0    31.363777    89.945182    -1.000000   -1.000000 -1.000000e+00   \n",
      "8   34359.0     0.366745     1.220706     0.000000    0.000000  0.000000e+00   \n",
      "9   34359.0     0.117524     0.322048     0.000000    0.000000  0.000000e+00   \n",
      "10  34359.0     0.220757     0.414763     0.000000    0.000000  0.000000e+00   \n",
      "11  34359.0     0.033063     0.178803     0.000000    0.000000  0.000000e+00   \n",
      "12  34359.0     0.026660     0.161089     0.000000    0.000000  0.000000e+00   \n",
      "13  34359.0     0.210105     0.407389     0.000000    0.000000  0.000000e+00   \n",
      "14  34359.0     0.045112     0.207553     0.000000    0.000000  0.000000e+00   \n",
      "15  34359.0     0.034343     0.182112     0.000000    0.000000  0.000000e+00   \n",
      "16  34359.0     0.092086     0.289152     0.000000    0.000000  0.000000e+00   \n",
      "17  34359.0     0.016444     0.127177     0.000000    0.000000  0.000000e+00   \n",
      "18  34359.0     0.169155     0.374894     0.000000    0.000000  0.000000e+00   \n",
      "19  34359.0     0.028406     0.166132     0.000000    0.000000  0.000000e+00   \n",
      "20  34359.0     0.006345     0.079402     0.000000    0.000000  0.000000e+00   \n",
      "21  34359.0     0.107192     0.309361     0.000000    0.000000  0.000000e+00   \n",
      "22  34359.0     0.615414     0.486504     0.000000    0.000000  1.000000e+00   \n",
      "23  34359.0     0.277395     0.447719     0.000000    0.000000  0.000000e+00   \n",
      "24  34359.0     0.147792     0.354899     0.000000    0.000000  0.000000e+00   \n",
      "25  34359.0     0.523444     0.499457     0.000000    0.000000  1.000000e+00   \n",
      "26  34359.0     0.291045     0.454251     0.000000    0.000000  0.000000e+00   \n",
      "27  34359.0     0.037719     0.190520     0.000000    0.000000  0.000000e+00   \n",
      "28  34359.0     0.645682     0.478313     0.000000    0.000000  1.000000e+00   \n",
      "29  34359.0     0.051777     0.221579     0.000000    0.000000  0.000000e+00   \n",
      "30  34359.0     0.302541     0.459365     0.000000    0.000000  0.000000e+00   \n",
      "31  34359.0     0.094851     0.293014     0.000000    0.000000  0.000000e+00   \n",
      "32  34359.0     0.025088     0.156395     0.000000    0.000000  0.000000e+00   \n",
      "33  34359.0     0.022760     0.149139     0.000000    0.000000  0.000000e+00   \n",
      "34  34359.0     0.857301     0.349771     0.000000    1.000000  1.000000e+00   \n",
      "35  34359.0     0.025816     0.700586    -0.998717   -0.651372 -1.011683e-01   \n",
      "36  34359.0    -0.110509     0.704506    -0.994869   -0.758758 -2.506525e-01   \n",
      "37  34359.0     0.013669     0.608650    -1.000000   -0.500000  1.224647e-16   \n",
      "38  34359.0    -0.495133     0.619858    -1.000000   -0.866025 -8.660254e-01   \n",
      "\n",
      "            75%            max  \n",
      "0     48.000000      95.000000  \n",
      "1      0.000000       1.000000  \n",
      "2   1375.000000  102127.000000  \n",
      "3      1.000000       1.000000  \n",
      "4      0.000000       1.000000  \n",
      "5    317.000000    3881.000000  \n",
      "6      3.000000      63.000000  \n",
      "7     -1.000000     831.000000  \n",
      "8      0.000000      27.000000  \n",
      "9      0.000000       1.000000  \n",
      "10     0.000000       1.000000  \n",
      "11     0.000000       1.000000  \n",
      "12     0.000000       1.000000  \n",
      "13     0.000000       1.000000  \n",
      "14     0.000000       1.000000  \n",
      "15     0.000000       1.000000  \n",
      "16     0.000000       1.000000  \n",
      "17     0.000000       1.000000  \n",
      "18     0.000000       1.000000  \n",
      "19     0.000000       1.000000  \n",
      "20     0.000000       1.000000  \n",
      "21     0.000000       1.000000  \n",
      "22     1.000000       1.000000  \n",
      "23     1.000000       1.000000  \n",
      "24     0.000000       1.000000  \n",
      "25     1.000000       1.000000  \n",
      "26     1.000000       1.000000  \n",
      "27     0.000000       1.000000  \n",
      "28     1.000000       1.000000  \n",
      "29     0.000000       1.000000  \n",
      "30     1.000000       1.000000  \n",
      "31     0.000000       1.000000  \n",
      "32     0.000000       1.000000  \n",
      "33     0.000000       1.000000  \n",
      "34     1.000000       1.000000  \n",
      "35     0.724793       0.998717  \n",
      "36     0.528964       1.000000  \n",
      "37     0.500000       1.000000  \n",
      "38    -0.500000       1.000000  \n"
     ]
    }
   ],
   "source": [
    "print(pd.DataFrame(x_train).describe().T)"
   ]
  },
  {
   "cell_type": "markdown",
   "id": "49d1da2a",
   "metadata": {},
   "source": [
    "Estandarización:"
   ]
  },
  {
   "cell_type": "code",
   "execution_count": 28,
   "id": "a33dfdc5",
   "metadata": {},
   "outputs": [],
   "source": [
    "scaler = StandardScaler()\n",
    "scaler.fit(x_train)\n",
    "\n",
    "x_train = scaler.transform(x_train)\n",
    "x_test = scaler.transform(x_test)"
   ]
  },
  {
   "cell_type": "code",
   "execution_count": 29,
   "id": "7922e27b",
   "metadata": {},
   "outputs": [],
   "source": [
    "pca = PCA(n_components=0.95)\n",
    "x_train = pca.fit_transform(x_train)\n",
    "x_test = pca.transform(x_test)"
   ]
  },
  {
   "cell_type": "code",
   "execution_count": 30,
   "id": "c91d69d0",
   "metadata": {},
   "outputs": [
    {
     "data": {
      "text/plain": [
       "<matplotlib.colorbar.Colorbar at 0x2113eb28d90>"
      ]
     },
     "execution_count": 30,
     "metadata": {},
     "output_type": "execute_result"
    },
    {
     "data": {
      "image/png": "[encoded data removed]",
      "text/plain": [
       "<Figure size 360x360 with 2 Axes>"
      ]
     },
     "metadata": {
      "needs_background": "light"
     },
     "output_type": "display_data"
    }
   ],
   "source": [
    "corr = np.abs(np.corrcoef(x_train, rowvar=False))\n",
    "plt.matshow(corr, cmap='viridis')\n",
    "plt.colorbar(shrink=0.8)"
   ]
  },
  {
   "cell_type": "code",
   "execution_count": 31,
   "id": "77f8e405",
   "metadata": {
    "scrolled": true
   },
   "outputs": [
    {
     "data": {
      "text/plain": [
       "array([[-1.01962546,  0.39519016, -0.88836377, ...,  2.13807325,\n",
       "         1.88744722,  0.98820462],\n",
       "       [-1.22920173,  0.47731844,  0.50641821, ...,  0.10700121,\n",
       "         0.30693877,  0.53996363],\n",
       "       [-1.68557586, -1.9171022 ,  0.01319554, ...,  0.93606417,\n",
       "         0.24278096,  0.92358995],\n",
       "       ...,\n",
       "       [-1.48810016, -1.72208569, -0.41669405, ...,  0.23596303,\n",
       "        -0.11992899, -0.31031496],\n",
       "       [-0.32047306,  0.23379458,  2.12219794, ..., -0.04568562,\n",
       "        -0.70974007,  1.22449672],\n",
       "       [ 4.68613775, -2.10570573,  1.54835465, ..., -0.67079342,\n",
       "         2.82291743, -0.21119091]])"
      ]
     },
     "execution_count": 31,
     "metadata": {},
     "output_type": "execute_result"
    }
   ],
   "source": [
    "x_train"
   ]
  },
  {
   "cell_type": "code",
   "execution_count": 32,
   "id": "81d15037",
   "metadata": {
    "scrolled": true
   },
   "outputs": [
    {
     "name": "stdout",
     "output_type": "stream",
     "text": [
      "      count          mean       std       min       25%       50%       75%  \\\n",
      "0   34359.0  1.197990e-15  1.957872 -3.037139 -1.359343 -0.363206  0.050568   \n",
      "1   34359.0  1.892604e-15  1.672475 -5.129091 -1.373394 -0.052351  1.104201   \n",
      "2   34359.0 -1.772790e-16  1.567726 -4.302827 -1.262974  0.169227  1.029489   \n",
      "3   34359.0  1.303437e-15  1.424096 -3.362414 -1.062784 -0.025575  0.981111   \n",
      "4   34359.0 -1.990656e-16  1.228943 -2.653556 -0.852867 -0.269678  0.705472   \n",
      "5   34359.0 -5.440332e-16  1.217377 -4.498520 -0.843266 -0.162210  0.670807   \n",
      "6   34359.0  8.145465e-16  1.156472 -4.264915 -0.483431  0.033155  0.514879   \n",
      "7   34359.0 -1.172891e-15  1.110023 -7.887709 -0.694872 -0.065558  0.653902   \n",
      "8   34359.0  6.591980e-17  1.085005 -8.170585 -0.439454  0.003314  0.436380   \n",
      "9   34359.0  2.654097e-15  1.079774 -4.784757 -0.611375  0.067820  0.732824   \n",
      "10  34359.0 -1.179128e-15  1.078191 -4.541594 -0.702081  0.002960  0.709706   \n",
      "11  34359.0  1.611605e-15  1.059368 -3.607446 -0.562523  0.014925  0.523720   \n",
      "12  34359.0  2.937005e-15  1.049525 -4.354466 -0.536081  0.021147  0.601986   \n",
      "13  34359.0  9.498693e-16  1.036757 -4.391602 -0.528928 -0.002013  0.528390   \n",
      "14  34359.0 -1.206753e-15  1.032677 -3.864201 -0.468948 -0.097321  0.307254   \n",
      "15  34359.0  4.344730e-16  1.021700 -2.113902 -0.374671 -0.147412  0.019230   \n",
      "16  34359.0 -1.287302e-15  1.014343 -2.478860 -0.538107 -0.188430  0.146973   \n",
      "17  34359.0  6.359863e-16  1.008669 -5.128367 -0.479929 -0.072652  0.371931   \n",
      "18  34359.0 -2.269887e-15  0.994341 -5.931870 -0.407185  0.046085  0.470660   \n",
      "19  34359.0 -6.383580e-16  0.981890 -4.711525 -0.523346 -0.071581  0.455146   \n",
      "20  34359.0  3.009955e-15  0.971366 -4.845070 -0.582564 -0.042850  0.545382   \n",
      "21  34359.0 -1.774664e-15  0.957634 -5.011976 -0.570508 -0.033230  0.490219   \n",
      "22  34359.0  4.784066e-16  0.956603 -4.829921 -0.568178 -0.061872  0.468774   \n",
      "23  34359.0 -1.781999e-15  0.948295 -3.924551 -0.634747 -0.041647  0.610034   \n",
      "24  34359.0  9.766596e-16  0.937081 -2.684486 -0.625184 -0.211815  0.461199   \n",
      "25  34359.0  1.442085e-15  0.911235 -6.469627 -0.301243  0.042990  0.364351   \n",
      "26  34359.0  5.247378e-16  0.877152 -2.895946 -0.602396 -0.001342  0.554347   \n",
      "27  34359.0  1.200368e-15  0.858707 -3.045589 -0.574457 -0.049320  0.540288   \n",
      "28  34359.0 -2.933961e-16  0.776835 -3.764159 -0.506568 -0.017961  0.465966   \n",
      "\n",
      "          max  \n",
      "0   12.455069  \n",
      "1    6.256388  \n",
      "2    5.638142  \n",
      "3    4.402936  \n",
      "4    5.304159  \n",
      "5    6.019967  \n",
      "6    8.678844  \n",
      "7   10.241350  \n",
      "8    8.918611  \n",
      "9    4.948492  \n",
      "10  12.341351  \n",
      "11   4.252827  \n",
      "12   5.159444  \n",
      "13   5.863478  \n",
      "14   4.965797  \n",
      "15   7.150593  \n",
      "16   6.881322  \n",
      "17   5.619065  \n",
      "18   6.845326  \n",
      "19   4.888021  \n",
      "20   6.786605  \n",
      "21   7.473929  \n",
      "22  19.998180  \n",
      "23  12.117031  \n",
      "24  12.151742  \n",
      "25   8.149588  \n",
      "26   5.404149  \n",
      "27   5.794882  \n",
      "28   6.892147  \n"
     ]
    }
   ],
   "source": [
    "print(pd.DataFrame(x_train).describe().T)"
   ]
  },
  {
   "cell_type": "code",
   "execution_count": 33,
   "id": "97800258",
   "metadata": {},
   "outputs": [],
   "source": [
    "def informeResultados(model, xt, yt):\n",
    "    print(\"El accuracy obtenido por este modelo es :\" + str(model.score(xt, yt)))\n",
    "    print(\"El f1 score que combina precision & recall obtenido por este modelo es :\" + str(f1_score(yt, model.predict(xt))))\n",
    "    print(\"Los hiperparámetros estimados mediante GridSearch Cross Validation han sido:\")\n",
    "    print(model.best_params_)\n",
    "    cf_matrix = confusion_matrix(yt, model.predict(xt))\n",
    "\n",
    "    ax = sns.heatmap(cf_matrix, annot=True, cmap='Blues', fmt='g')\n",
    "\n",
    "    ax.set_title('Matriz de confusión\\n\\n');\n",
    "    ax.set_xlabel('\\nPredicciones')\n",
    "    ax.set_ylabel('Valores reales ');\n",
    "\n",
    "    ax.xaxis.set_ticklabels(['no','yes'])\n",
    "    ax.yaxis.set_ticklabels(['no','yes'])"
   ]
  },
  {
   "cell_type": "code",
   "execution_count": 34,
   "id": "9b598c97",
   "metadata": {},
   "outputs": [
    {
     "data": {
      "text/plain": [
       "GridSearchCV(cv=5, estimator=Perceptron(max_iter=10000, random_state=1),\n",
       "             param_grid=[{'alpha': [0.1, 0.01, 0.001, 0.0001],\n",
       "                          'penalty': ['l1', 'l2'],\n",
       "                          'tol': [0.001, 0.0001, 1e-06]}],\n",
       "             return_train_score=True, scoring='accuracy')"
      ]
     },
     "execution_count": 34,
     "metadata": {},
     "output_type": "execute_result"
    }
   ],
   "source": [
    "parameters = [{'penalty':['l1','l2'],'alpha':[0.1,0.01,0.001,0.0001],'tol':[1e-3,1e-4,1e-6]}]\n",
    "perceptron = Perceptron(random_state=1,max_iter=10000)\n",
    "PLAmodel = GridSearchCV(perceptron, parameters, cv=5, scoring='accuracy', return_train_score=True)\n",
    "PLAmodel.fit(x_train,y_train)"
   ]
  },
  {
   "cell_type": "code",
   "execution_count": 35,
   "id": "5abfce1c",
   "metadata": {},
   "outputs": [
    {
     "name": "stdout",
     "output_type": "stream",
     "text": [
      "El accuracy obtenido por este modelo es :0.8830034280659074\n",
      "El f1 score que combina precision & recall obtenido por este modelo es :0.0\n",
      "Los hiperparámetros estimados mediante GridSearch Cross Validation han sido:\n",
      "{'alpha': 0.1, 'penalty': 'l1', 'tol': 0.001}\n"
     ]
    },
    {
     "data": {
      "image/png": "[encoded data removed]",
      "text/plain": [
       "<Figure size 504x360 with 2 Axes>"
      ]
     },
     "metadata": {
      "needs_background": "light"
     },
     "output_type": "display_data"
    }
   ],
   "source": [
    "informeResultados(PLAmodel, x_test, y_test)"
   ]
  },
  {
   "cell_type": "code",
   "execution_count": 36,
   "id": "4f4ab3d7",
   "metadata": {},
   "outputs": [
    {
     "data": {
      "text/plain": [
       "GridSearchCV(cv=5, estimator=LogisticRegression(max_iter=1000, random_state=1),\n",
       "             param_grid=[{'C': [1, 10, 100, 1000, 10000], 'penalty': ['l2']}],\n",
       "             return_train_score=True, scoring='accuracy')"
      ]
     },
     "execution_count": 36,
     "metadata": {},
     "output_type": "execute_result"
    }
   ],
   "source": [
    "parameters = [{'penalty':['l2'],'C':[1,10,100,1000,10000]}]\n",
    "logit = LogisticRegression(random_state=1,max_iter=1000)\n",
    "LRmodel = GridSearchCV(logit, parameters, cv=5, scoring='accuracy', return_train_score=True)\n",
    "LRmodel.fit(x_train,y_train)"
   ]
  },
  {
   "cell_type": "code",
   "execution_count": 37,
   "id": "58b8c192",
   "metadata": {},
   "outputs": [
    {
     "name": "stdout",
     "output_type": "stream",
     "text": [
      "El accuracy obtenido por este modelo es :0.8982638504920933\n",
      "El f1 score que combina precision & recall obtenido por este modelo es :0.4403892944038929\n",
      "Los hiperparámetros estimados mediante GridSearch Cross Validation han sido:\n",
      "{'C': 1, 'penalty': 'l2'}\n"
     ]
    },
    {
     "data": {
      "image/png": "[encoded data removed]",
      "text/plain": [
       "<Figure size 504x360 with 2 Axes>"
      ]
     },
     "metadata": {
      "needs_background": "light"
     },
     "output_type": "display_data"
    }
   ],
   "source": [
    "informeResultados(LRmodel, x_test, y_test)"
   ]
  },
  {
   "cell_type": "code",
   "execution_count": 38,
   "id": "ee0b68f7",
   "metadata": {},
   "outputs": [
    {
     "data": {
      "text/plain": [
       "GridSearchCV(cv=5, estimator=RidgeClassifier(max_iter=10000, random_state=2),\n",
       "             param_grid=[{'alpha': [0.1, 0.01, 0.001, 0.0001]}],\n",
       "             return_train_score=True, scoring='accuracy')"
      ]
     },
     "execution_count": 38,
     "metadata": {},
     "output_type": "execute_result"
    }
   ],
   "source": [
    "parameters = [{'alpha':[0.1,0.01,0.001,0.0001]}]\n",
    "lin = RidgeClassifier(random_state=2,max_iter=10000)\n",
    "lineal = GridSearchCV(lin, parameters, cv=5, scoring='accuracy', return_train_score=True)\n",
    "lineal.fit(x_train,y_train)"
   ]
  },
  {
   "cell_type": "code",
   "execution_count": 39,
   "id": "61d9a829",
   "metadata": {},
   "outputs": [
    {
     "name": "stdout",
     "output_type": "stream",
     "text": [
      "El accuracy obtenido por este modelo es :0.8952781156695787\n",
      "El f1 score que combina precision & recall obtenido por este modelo es :0.37491749174917494\n",
      "Los hiperparámetros estimados mediante GridSearch Cross Validation han sido:\n",
      "{'alpha': 0.1}\n"
     ]
    },
    {
     "data": {
      "image/png": "[encoded data removed]",
      "text/plain": [
       "<Figure size 504x360 with 2 Axes>"
      ]
     },
     "metadata": {
      "needs_background": "light"
     },
     "output_type": "display_data"
    }
   ],
   "source": [
    "informeResultados(lineal, x_test, y_test)"
   ]
  },
  {
   "cell_type": "code",
   "execution_count": 40,
   "id": "64de13bf",
   "metadata": {},
   "outputs": [
    {
     "name": "stdout",
     "output_type": "stream",
     "text": [
      "El accuracy obtenido por este modelo es :0.8830034280659074\n",
      "Los hiperparámetros estimados mediante GridSearch Cross Validation han sido:\n"
     ]
    },
    {
     "data": {
      "text/plain": [
       "[Text(0, 0.5, 'no'), Text(0, 1.5, 'yes')]"
      ]
     },
     "execution_count": 40,
     "metadata": {},
     "output_type": "execute_result"
    },
    {
     "data": {
      "image/png": "[encoded data removed]",
      "text/plain": [
       "<Figure size 504x360 with 2 Axes>"
      ]
     },
     "metadata": {
      "needs_background": "light"
     },
     "output_type": "display_data"
    }
   ],
   "source": [
    "dummy = DummyClassifier(strategy=\"most_frequent\")\n",
    "dummy.fit(x_train, y_train)\n",
    "print(\"El accuracy obtenido por este modelo es :\" + str(dummy.score(x_test, y_test)))\n",
    "print(\"Los hiperparámetros estimados mediante GridSearch Cross Validation han sido:\")\n",
    "cf_matrix = confusion_matrix(y_test, dummy.predict(x_test))\n",
    "\n",
    "ax = sns.heatmap(cf_matrix, annot=True, cmap='Blues', fmt='g')\n",
    "\n",
    "ax.set_title('Matriz de confusión\\n\\n');\n",
    "ax.set_xlabel('\\nPredicciones')\n",
    "ax.set_ylabel('Valores reales ');\n",
    "\n",
    "ax.xaxis.set_ticklabels(['no','yes'])\n",
    "ax.yaxis.set_ticklabels(['no','yes'])"
   ]
  },
  {
   "cell_type": "markdown",
   "id": "a0f7ab84",
   "metadata": {},
   "source": [
    "El que mejor funciona parece ser regresión logística:"
   ]
  },
  {
   "cell_type": "code",
   "execution_count": 49,
   "id": "03ee7b0e",
   "metadata": {},
   "outputs": [
    {
     "data": {
      "text/plain": [
       "0.8982638504920933"
      ]
     },
     "execution_count": 49,
     "metadata": {},
     "output_type": "execute_result"
    }
   ],
   "source": [
    "atest = LRmodel.score(x_test, y_test)\n",
    "atest"
   ]
  },
  {
   "cell_type": "code",
   "execution_count": 50,
   "id": "2a575acd",
   "metadata": {},
   "outputs": [
    {
     "data": {
      "text/plain": [
       "0.907360561479817"
      ]
     },
     "execution_count": 50,
     "metadata": {},
     "output_type": "execute_result"
    }
   ],
   "source": [
    "acv = LRmodel.best_score_\n",
    "acv"
   ]
  },
  {
   "cell_type": "markdown",
   "id": "dd19745b",
   "metadata": {},
   "source": [
    "Introducimos la función para el cálculo de curvas de aprendizaje https://scikit-learn.org/stable/auto_examples/model_selection/plot_learning_curve.html#sphx-glr-auto-examples-model-selection-plot-learning-curve-py"
   ]
  },
  {
   "cell_type": "code",
   "execution_count": 43,
   "id": "7f681ff3",
   "metadata": {},
   "outputs": [],
   "source": [
    "def plot_learning_curve(\n",
    "    estimator,\n",
    "    title,\n",
    "    X,\n",
    "    y,\n",
    "    axes=None,\n",
    "    ylim=None,\n",
    "    cv=None,\n",
    "    n_jobs=None,\n",
    "    train_sizes=np.linspace(0.1, 1.0, 5),\n",
    "):\n",
    "    \"\"\"\n",
    "    Generate 3 plots: the test and training learning curve, the training\n",
    "    samples vs fit times curve, the fit times vs score curve.\n",
    "\n",
    "    Parameters\n",
    "    ----------\n",
    "    estimator : estimator instance\n",
    "        An estimator instance implementing `fit` and `predict` methods which\n",
    "        will be cloned for each validation.\n",
    "\n",
    "    title : str\n",
    "        Title for the chart.\n",
    "\n",
    "    X : array-like of shape (n_samples, n_features)\n",
    "        Training vector, where ``n_samples`` is the number of samples and\n",
    "        ``n_features`` is the number of features.\n",
    "\n",
    "    y : array-like of shape (n_samples) or (n_samples, n_features)\n",
    "        Target relative to ``X`` for classification or regression;\n",
    "        None for unsupervised learning.\n",
    "\n",
    "    axes : array-like of shape (3,), default=None\n",
    "        Axes to use for plotting the curves.\n",
    "\n",
    "    ylim : tuple of shape (2,), default=None\n",
    "        Defines minimum and maximum y-values plotted, e.g. (ymin, ymax).\n",
    "\n",
    "    cv : int, cross-validation generator or an iterable, default=None\n",
    "        Determines the cross-validation splitting strategy.\n",
    "        Possible inputs for cv are:\n",
    "\n",
    "          - None, to use the default 5-fold cross-validation,\n",
    "          - integer, to specify the number of folds.\n",
    "          - :term:`CV splitter`,\n",
    "          - An iterable yielding (train, test) splits as arrays of indices.\n",
    "\n",
    "        For integer/None inputs, if ``y`` is binary or multiclass,\n",
    "        :class:`StratifiedKFold` used. If the estimator is not a classifier\n",
    "        or if ``y`` is neither binary nor multiclass, :class:`KFold` is used.\n",
    "\n",
    "        Refer :ref:`User Guide <cross_validation>` for the various\n",
    "        cross-validators that can be used here.\n",
    "\n",
    "    n_jobs : int or None, default=None\n",
    "        Number of jobs to run in parallel.\n",
    "        ``None`` means 1 unless in a :obj:`joblib.parallel_backend` context.\n",
    "        ``-1`` means using all processors. See :term:`Glossary <n_jobs>`\n",
    "        for more details.\n",
    "\n",
    "    train_sizes : array-like of shape (n_ticks,)\n",
    "        Relative or absolute numbers of training examples that will be used to\n",
    "        generate the learning curve. If the ``dtype`` is float, it is regarded\n",
    "        as a fraction of the maximum size of the training set (that is\n",
    "        determined by the selected validation method), i.e. it has to be within\n",
    "        (0, 1]. Otherwise it is interpreted as absolute sizes of the training\n",
    "        sets. Note that for classification the number of samples usually have\n",
    "        to be big enough to contain at least one sample from each class.\n",
    "        (default: np.linspace(0.1, 1.0, 5))\n",
    "    \"\"\"\n",
    "    if axes is None:\n",
    "        _, axes = plt.subplots(1, 3, figsize=(20, 5))\n",
    "\n",
    "    axes[0].set_title(title)\n",
    "    if ylim is not None:\n",
    "        axes[0].set_ylim(*ylim)\n",
    "    axes[0].set_xlabel(\"Training examples\")\n",
    "    axes[0].set_ylabel(\"Score\")\n",
    "\n",
    "    train_sizes, train_scores, test_scores, fit_times, _ = learning_curve(\n",
    "        estimator,\n",
    "        X,\n",
    "        y,\n",
    "        cv=cv,\n",
    "        n_jobs=n_jobs,\n",
    "        train_sizes=train_sizes,\n",
    "        return_times=True,\n",
    "    )\n",
    "    train_scores_mean = np.mean(train_scores, axis=1)\n",
    "    train_scores_std = np.std(train_scores, axis=1)\n",
    "    test_scores_mean = np.mean(test_scores, axis=1)\n",
    "    test_scores_std = np.std(test_scores, axis=1)\n",
    "    fit_times_mean = np.mean(fit_times, axis=1)\n",
    "    fit_times_std = np.std(fit_times, axis=1)\n",
    "\n",
    "    # Plot learning curve\n",
    "    axes[0].grid()\n",
    "    axes[0].fill_between(\n",
    "        train_sizes,\n",
    "        train_scores_mean - train_scores_std,\n",
    "        train_scores_mean + train_scores_std,\n",
    "        alpha=0.1,\n",
    "        color=\"r\",\n",
    "    )\n",
    "    axes[0].fill_between(\n",
    "        train_sizes,\n",
    "        test_scores_mean - test_scores_std,\n",
    "        test_scores_mean + test_scores_std,\n",
    "        alpha=0.1,\n",
    "        color=\"g\",\n",
    "    )\n",
    "    axes[0].plot(\n",
    "        train_sizes, train_scores_mean, \"o-\", color=\"r\", label=\"Training score\"\n",
    "    )\n",
    "    axes[0].plot(\n",
    "        train_sizes, test_scores_mean, \"o-\", color=\"g\", label=\"Cross-validation score\"\n",
    "    )\n",
    "    axes[0].legend(loc=\"best\")\n",
    "\n",
    "    # Plot n_samples vs fit_times\n",
    "    axes[1].grid()\n",
    "    axes[1].plot(train_sizes, fit_times_mean, \"o-\")\n",
    "    axes[1].fill_between(\n",
    "        train_sizes,\n",
    "        fit_times_mean - fit_times_std,\n",
    "        fit_times_mean + fit_times_std,\n",
    "        alpha=0.1,\n",
    "    )\n",
    "    axes[1].set_xlabel(\"Training examples\")\n",
    "    axes[1].set_ylabel(\"fit_times\")\n",
    "    axes[1].set_title(\"Scalability of the model\")\n",
    "\n",
    "    # Plot fit_time vs score\n",
    "    fit_time_argsort = fit_times_mean.argsort()\n",
    "    fit_time_sorted = fit_times_mean[fit_time_argsort]\n",
    "    test_scores_mean_sorted = test_scores_mean[fit_time_argsort]\n",
    "    test_scores_std_sorted = test_scores_std[fit_time_argsort]\n",
    "    axes[2].grid()\n",
    "    axes[2].plot(fit_time_sorted, test_scores_mean_sorted, \"o-\")\n",
    "    axes[2].fill_between(\n",
    "        fit_time_sorted,\n",
    "        test_scores_mean_sorted - test_scores_std_sorted,\n",
    "        test_scores_mean_sorted + test_scores_std_sorted,\n",
    "        alpha=0.1,\n",
    "    )\n",
    "    axes[2].set_xlabel(\"fit_times\")\n",
    "    axes[2].set_ylabel(\"Score\")\n",
    "    axes[2].set_title(\"Performance of the model\")\n",
    "\n",
    "    return plt"
   ]
  },
  {
   "cell_type": "code",
   "execution_count": 44,
   "id": "6e866e08",
   "metadata": {},
   "outputs": [
    {
     "data": {
      "text/plain": [
       "<module 'matplotlib.pyplot' from 'C:\\\\Users\\\\ignan\\\\anaconda3\\\\lib\\\\site-packages\\\\matplotlib\\\\pyplot.py'>"
      ]
     },
     "execution_count": 44,
     "metadata": {},
     "output_type": "execute_result"
    },
    {
     "data": {
      "image/png": "[encoded data removed]",
      "text/plain": [
       "<Figure size 1440x360 with 3 Axes>"
      ]
     },
     "metadata": {
      "needs_background": "light"
     },
     "output_type": "display_data"
    }
   ],
   "source": [
    "title = \"Curvas de aprendizaje (Regresión Logística)\"\n",
    "cv = ShuffleSplit(n_splits=50, test_size=0.2, random_state=0)\n",
    "\n",
    "plot_learning_curve(LRmodel, title, x_train, y_train, cv=cv)"
   ]
  },
  {
   "cell_type": "markdown",
   "id": "243c0bc8",
   "metadata": {},
   "source": [
    "Calculamos la cota mediante la desigualdad de Hoeffding:"
   ]
  },
  {
   "cell_type": "code",
   "execution_count": 51,
   "id": "5d98c4eb",
   "metadata": {},
   "outputs": [
    {
     "data": {
      "text/plain": [
       "0.11601772002158489"
      ]
     },
     "execution_count": 51,
     "metadata": {},
     "output_type": "execute_result"
    }
   ],
   "source": [
    "delta = 0.05\n",
    "def cotatest(error, N):\n",
    "    return error + np.sqrt(np.log(2/delta)/(2*N))\n",
    "\n",
    "cotatest(1-atest, len(x_test))"
   ]
  },
  {
   "cell_type": "code",
   "execution_count": 53,
   "id": "032fc4db",
   "metadata": {},
   "outputs": [
    {
     "data": {
      "text/plain": [
       "0.09263943852018297"
      ]
     },
     "execution_count": 53,
     "metadata": {},
     "output_type": "execute_result"
    }
   ],
   "source": [
    "1-acv"
   ]
  }
 ],
 "metadata": {
  "kernelspec": {
   "display_name": "Python 3 (ipykernel)",
   "language": "python",
   "name": "python3"
  },
  "language_info": {
   "codemirror_mode": {
    "name": "ipython",
    "version": 3
   },
   "file_extension": ".py",
   "mimetype": "text/x-python",
   "name": "python",
   "nbconvert_exporter": "python",
   "pygments_lexer": "ipython3",
   "version": "3.9.7"
  }
 },
 "nbformat": 4,
 "nbformat_minor": 5
}
